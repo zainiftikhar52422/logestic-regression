{
 "cells": [
  {
   "cell_type": "code",
   "execution_count": 1,
   "metadata": {},
   "outputs": [],
   "source": [
    "import pandas as pd\n",
    "import numpy as np\n",
    "# Plot a scatter plot chart\n",
    "%matplotlib inline\n",
    "from matplotlib import pyplot as plt"
   ]
  },
  {
   "cell_type": "code",
   "execution_count": 37,
   "metadata": {},
   "outputs": [
    {
     "data": {
      "text/html": [
       "<div>\n",
       "<style scoped>\n",
       "    .dataframe tbody tr th:only-of-type {\n",
       "        vertical-align: middle;\n",
       "    }\n",
       "\n",
       "    .dataframe tbody tr th {\n",
       "        vertical-align: top;\n",
       "    }\n",
       "\n",
       "    .dataframe thead th {\n",
       "        text-align: right;\n",
       "    }\n",
       "</style>\n",
       "<table border=\"1\" class=\"dataframe\">\n",
       "  <thead>\n",
       "    <tr style=\"text-align: right;\">\n",
       "      <th></th>\n",
       "      <th>exam1</th>\n",
       "      <th>exam2</th>\n",
       "      <th>decision</th>\n",
       "      <th>catogery</th>\n",
       "    </tr>\n",
       "  </thead>\n",
       "  <tbody>\n",
       "    <tr>\n",
       "      <th>0</th>\n",
       "      <td>34.623660</td>\n",
       "      <td>78.024693</td>\n",
       "      <td>0</td>\n",
       "      <td>NaN</td>\n",
       "    </tr>\n",
       "    <tr>\n",
       "      <th>1</th>\n",
       "      <td>30.286711</td>\n",
       "      <td>43.894998</td>\n",
       "      <td>0</td>\n",
       "      <td>NaN</td>\n",
       "    </tr>\n",
       "    <tr>\n",
       "      <th>2</th>\n",
       "      <td>35.847409</td>\n",
       "      <td>72.902198</td>\n",
       "      <td>0</td>\n",
       "      <td>NaN</td>\n",
       "    </tr>\n",
       "    <tr>\n",
       "      <th>3</th>\n",
       "      <td>60.182599</td>\n",
       "      <td>86.308552</td>\n",
       "      <td>1</td>\n",
       "      <td>NaN</td>\n",
       "    </tr>\n",
       "    <tr>\n",
       "      <th>4</th>\n",
       "      <td>79.032736</td>\n",
       "      <td>75.344376</td>\n",
       "      <td>1</td>\n",
       "      <td>NaN</td>\n",
       "    </tr>\n",
       "  </tbody>\n",
       "</table>\n",
       "</div>"
      ],
      "text/plain": [
       "       exam1      exam2  decision  catogery\n",
       "0  34.623660  78.024693         0       NaN\n",
       "1  30.286711  43.894998         0       NaN\n",
       "2  35.847409  72.902198         0       NaN\n",
       "3  60.182599  86.308552         1       NaN\n",
       "4  79.032736  75.344376         1       NaN"
      ]
     },
     "execution_count": 37,
     "metadata": {},
     "output_type": "execute_result"
    }
   ],
   "source": [
    "ex2data1=pd.read_csv(\"ex2data1.csv\",usecols=[\"exam1\",\"exam2\",\"decision\",\"catogery\"])\n",
    "ex2data1.head()"
   ]
  },
  {
   "cell_type": "code",
   "execution_count": 38,
   "metadata": {},
   "outputs": [
    {
     "data": {
      "text/html": [
       "<div>\n",
       "<style scoped>\n",
       "    .dataframe tbody tr th:only-of-type {\n",
       "        vertical-align: middle;\n",
       "    }\n",
       "\n",
       "    .dataframe tbody tr th {\n",
       "        vertical-align: top;\n",
       "    }\n",
       "\n",
       "    .dataframe thead th {\n",
       "        text-align: right;\n",
       "    }\n",
       "</style>\n",
       "<table border=\"1\" class=\"dataframe\">\n",
       "  <thead>\n",
       "    <tr style=\"text-align: right;\">\n",
       "      <th></th>\n",
       "      <th>exam1</th>\n",
       "      <th>exam2</th>\n",
       "      <th>decision</th>\n",
       "      <th>catogery</th>\n",
       "    </tr>\n",
       "  </thead>\n",
       "  <tbody>\n",
       "    <tr>\n",
       "      <th>count</th>\n",
       "      <td>100.000000</td>\n",
       "      <td>100.000000</td>\n",
       "      <td>100.000000</td>\n",
       "      <td>0.0</td>\n",
       "    </tr>\n",
       "    <tr>\n",
       "      <th>mean</th>\n",
       "      <td>65.644274</td>\n",
       "      <td>66.221998</td>\n",
       "      <td>0.600000</td>\n",
       "      <td>NaN</td>\n",
       "    </tr>\n",
       "    <tr>\n",
       "      <th>std</th>\n",
       "      <td>19.458222</td>\n",
       "      <td>18.582783</td>\n",
       "      <td>0.492366</td>\n",
       "      <td>NaN</td>\n",
       "    </tr>\n",
       "    <tr>\n",
       "      <th>min</th>\n",
       "      <td>30.058822</td>\n",
       "      <td>30.603263</td>\n",
       "      <td>0.000000</td>\n",
       "      <td>NaN</td>\n",
       "    </tr>\n",
       "    <tr>\n",
       "      <th>25%</th>\n",
       "      <td>50.919511</td>\n",
       "      <td>48.179205</td>\n",
       "      <td>0.000000</td>\n",
       "      <td>NaN</td>\n",
       "    </tr>\n",
       "    <tr>\n",
       "      <th>50%</th>\n",
       "      <td>67.032988</td>\n",
       "      <td>67.682381</td>\n",
       "      <td>1.000000</td>\n",
       "      <td>NaN</td>\n",
       "    </tr>\n",
       "    <tr>\n",
       "      <th>75%</th>\n",
       "      <td>80.212529</td>\n",
       "      <td>79.360605</td>\n",
       "      <td>1.000000</td>\n",
       "      <td>NaN</td>\n",
       "    </tr>\n",
       "    <tr>\n",
       "      <th>max</th>\n",
       "      <td>99.827858</td>\n",
       "      <td>98.869436</td>\n",
       "      <td>1.000000</td>\n",
       "      <td>NaN</td>\n",
       "    </tr>\n",
       "  </tbody>\n",
       "</table>\n",
       "</div>"
      ],
      "text/plain": [
       "            exam1       exam2    decision  catogery\n",
       "count  100.000000  100.000000  100.000000       0.0\n",
       "mean    65.644274   66.221998    0.600000       NaN\n",
       "std     19.458222   18.582783    0.492366       NaN\n",
       "min     30.058822   30.603263    0.000000       NaN\n",
       "25%     50.919511   48.179205    0.000000       NaN\n",
       "50%     67.032988   67.682381    1.000000       NaN\n",
       "75%     80.212529   79.360605    1.000000       NaN\n",
       "max     99.827858   98.869436    1.000000       NaN"
      ]
     },
     "execution_count": 38,
     "metadata": {},
     "output_type": "execute_result"
    }
   ],
   "source": [
    "ex2data1.describe()"
   ]
  },
  {
   "cell_type": "code",
   "execution_count": 70,
   "metadata": {},
   "outputs": [
    {
     "name": "stdout",
     "output_type": "stream",
     "text": [
      "Not admitted Blue \n",
      "Admitted Green\n"
     ]
    },
    {
     "data": {
      "image/png": "[encoded data removed]",
      "text/plain": [
       "<Figure size 720x360 with 1 Axes>"
      ]
     },
     "metadata": {
      "needs_background": "light"
     },
     "output_type": "display_data"
    }
   ],
   "source": [
    "print(\"Not admitted\",\"Blue\",\"\\nAdmitted\",\"Green\")\n",
    "import matplotlib.cm as cm\n",
    "\n",
    "#converting original (numerical) labels into categorical labels\n",
    "x1 = ex2data1[\"exam1\"]\n",
    "x2=ex2data1[\"exam2\"]\n",
    "categories = ex2data1[\"decision\"].apply(lambda x: 'No' if x == 0 else 'Yes')\n",
    "\n",
    "fig, ax = plt.subplots(figsize=(10, 5))\n",
    "\n",
    "#assigns a color to each data point\n",
    "colors = ['#2300A8', '#00A658']\n",
    "#iterates through the dataset plotting each data point and assigning it its corresponding color and label\n",
    "for i in range(len(ex2data1)):\n",
    "    index=0\n",
    "    if(categories.iloc[i]==\"No\"):\n",
    "        index=0\n",
    "    else:\n",
    "        index=1\n",
    "    dots=ax.scatter(x1.iloc[i], x2.iloc[i], alpha=0.70, color = colors[index] , label=categories.iloc[i])\n",
    "\n",
    "#adds a title and axes labels\n",
    "ax.set_title('Exam1 vs exam2')\n",
    "ax.set_xlabel('exam 1')\n",
    "ax.set_ylabel('exam2')\n",
    "\n",
    "#removing top and right borders\n",
    "ax.spines['top'].set_visible(False)\n",
    "ax.spines['right'].set_visible(False)\n",
    "\n",
    "#adds major gridlines\n",
    "ax.grid(color='grey', linestyle='-', linewidth=0.25, alpha=0.5)\n",
    "#adds legend\n",
    "plt.show()"
   ]
  },
  {
   "cell_type": "code",
   "execution_count": 88,
   "metadata": {},
   "outputs": [
    {
     "data": {
      "text/plain": [
       "array([[0.73105858],\n",
       "       [0.98201379],\n",
       "       [0.95257413]])"
      ]
     },
     "execution_count": 88,
     "metadata": {},
     "output_type": "execute_result"
    }
   ],
   "source": [
    "def sigmoid(x):\n",
    "    return 1/(1+np.exp(-x))"
   ]
  },
  {
   "cell_type": "code",
   "execution_count": 91,
   "metadata": {},
   "outputs": [
    {
     "data": {
      "text/plain": [
       "0.5"
      ]
     },
     "execution_count": 91,
     "metadata": {},
     "output_type": "execute_result"
    }
   ],
   "source": []
  },
  {
   "cell_type": "code",
   "execution_count": 117,
   "metadata": {},
   "outputs": [],
   "source": [
    "def perdict(x,theta):\n",
    "    return sigmoid(np.dot(x,theta))"
   ]
  },
  {
   "cell_type": "code",
   "execution_count": 106,
   "metadata": {},
   "outputs": [],
   "source": [
    "theta=np.array([ \n",
    "            [1,4,3]\n",
    "           ])\n",
    "x=np.array([1,2,3])\n",
    "theta=theta.T"
   ]
  },
  {
   "cell_type": "code",
   "execution_count": 107,
   "metadata": {},
   "outputs": [
    {
     "data": {
      "text/plain": [
       "array([0.99999998])"
      ]
     },
     "execution_count": 107,
     "metadata": {},
     "output_type": "execute_result"
    }
   ],
   "source": [
    "perdict(x,theta)"
   ]
  },
  {
   "cell_type": "code",
   "execution_count": 166,
   "metadata": {},
   "outputs": [
    {
     "name": "stdout",
     "output_type": "stream",
     "text": [
      "[[0.]\n",
      " [0.]\n",
      " [0.]]\n"
     ]
    }
   ],
   "source": [
    "theta = np.zeros([3,1])\n",
    "print(theta)\n",
    "X = ex2data1.iloc[:,0:2] # read first two columns into X\n",
    "y = ex2data1.iloc[:,2] # read the third column into y\n",
    "m = len(y) # no. of training samples\n",
    "ones = np.ones((m,1))\n",
    "X = np.hstack((ones, X)) # adding the intercept term\n",
    "Y = y[:,np.newaxis]    #convert pd array into numpy array\n",
    "#Y\n",
    "iterations = 9000000\n",
    "alpha = 0.001"
   ]
  },
  {
   "cell_type": "code",
   "execution_count": 167,
   "metadata": {},
   "outputs": [],
   "source": []
  },
  {
   "cell_type": "code",
   "execution_count": 168,
   "metadata": {},
   "outputs": [],
   "source": [
    "def computeCost(X,Y,theta,m):\n",
    "    \"\"\"\n",
    "    Take in a numpy array X,Y, theta and generate the cost function of using theta as parameter in a linear regression model....np.multiple(x,y) multiple vectors x and y element wise\n",
    "    \"\"\"\n",
    "    J = (-1/m) *np.sum(np.multiply(Y, np.log(perdict(X , theta))) + np.multiply((1-Y), np.log(1 - perdict(X , theta))))\n",
    "    return J\n",
    "cost=computeCost(X,Y,theta,m)"
   ]
  },
  {
   "cell_type": "code",
   "execution_count": 169,
   "metadata": {},
   "outputs": [
    {
     "name": "stdout",
     "output_type": "stream",
     "text": [
      "0.6931471805599453\n"
     ]
    }
   ],
   "source": [
    "print(cost)"
   ]
  },
  {
   "cell_type": "code",
   "execution_count": 170,
   "metadata": {},
   "outputs": [
    {
     "name": "stdout",
     "output_type": "stream",
     "text": [
      "[[0.]\n",
      " [0.]\n",
      " [0.]]\n",
      "[[-24.5854086 ]\n",
      " [  0.20162535]\n",
      " [  0.19681125]]\n",
      "0.20354801481935042\n"
     ]
    }
   ],
   "source": [
    "def gradientDescent(X, Y, theta, alpha, iterations, m):\n",
    "    for i in range(iterations):\n",
    "        cost=computeCost(X,Y,theta,m)\n",
    "        debugIter.append(i)\n",
    "        debugCost.append(cost)\n",
    "        \n",
    "        temp = perdict(X, theta) - Y\n",
    "        temp = np.dot(X.T, temp)    #so whats happening here is in temp 0 row stores for thetaO w.r.t derivative and 1th row w.r.t to theta 1 derivative\n",
    "        theta = theta - (alpha/m) * temp\n",
    "    return theta\n",
    "print(theta)\n",
    "debugIter=list()\n",
    "debugCost=list()\n",
    "theta=gradientDescent(X, Y, theta, alpha, iterations,m)\n",
    "print(theta)\n",
    "cost=computeCost(X,Y,theta,m)\n",
    "print(cost)"
   ]
  },
  {
   "cell_type": "code",
   "execution_count": 172,
   "metadata": {},
   "outputs": [],
   "source": [
    "drawing=perdict(X,theta)"
   ]
  },
  {
   "cell_type": "code",
   "execution_count": 171,
   "metadata": {},
   "outputs": [
    {
     "data": {
      "image/png": "[encoded data removed]",
      "text/plain": [
       "<Figure size 2400x2400 with 1 Axes>"
      ]
     },
     "metadata": {},
     "output_type": "display_data"
    }
   ],
   "source": [
    "from matplotlib.pyplot import figure\n",
    "figure( figsize=(30, 30), dpi=80, facecolor='w', edgecolor='k')\n",
    "plt.xlabel('iteration')\n",
    "plt.ylabel('Cost')\n",
    "plt.plot(debugIter,debugCost)\n",
    "plt.show()"
   ]
  },
  {
   "cell_type": "code",
   "execution_count": 175,
   "metadata": {},
   "outputs": [
    {
     "name": "stdout",
     "output_type": "stream",
     "text": [
      "Not admitted Blue \n",
      "Admitted Green\n"
     ]
    },
    {
     "data": {
      "image/png": "[encoded data removed]",
      "text/plain": [
       "<Figure size 720x360 with 1 Axes>"
      ]
     },
     "metadata": {
      "needs_background": "light"
     },
     "output_type": "display_data"
    }
   ],
   "source": [
    "print(\"Not admitted\",\"Blue\",\"\\nAdmitted\",\"Green\")\n",
    "import matplotlib.cm as cm\n",
    "\n",
    "#converting original (numerical) labels into categorical labels\n",
    "x1 = ex2data1[\"exam1\"]\n",
    "x2=ex2data1[\"exam2\"]\n",
    "categories = ex2data1[\"decision\"].apply(lambda x: 'No' if x == 0 else 'Yes')\n",
    "\n",
    "fig, ax = plt.subplots(figsize=(10, 5))\n",
    "\n",
    "#assigns a color to each data point\n",
    "colors = ['#2300A8', '#00A658']\n",
    "#iterates through the dataset plotting each data point and assigning it its corresponding color and label\n",
    "for i in range(len(ex2data1)):\n",
    "    index=0\n",
    "    if(categories.iloc[i]==\"No\"):\n",
    "        index=0\n",
    "    else:\n",
    "        index=1\n",
    "    ax.scatter(x1.iloc[i], x2.iloc[i], alpha=0.70, color = colors[index] , label=categories.iloc[i])\n",
    "    \n",
    "#adds a title and axes labels\n",
    "ax.set_title('Exam1 vs exam2')\n",
    "ax.set_xlabel('exam 1')\n",
    "ax.set_ylabel('exam2')\n",
    "\n",
    "#removing top and right borders\n",
    "ax.spines['top'].set_visible(False)\n",
    "ax.spines['right'].set_visible(False)\n",
    "\n",
    "#adds major gridlines\n",
    "ax.grid(color='grey', linestyle='-', linewidth=0.25, alpha=0.5)\n",
    "#adds legend\n",
    "plt.show()"
   ]
  },
  {
   "cell_type": "code",
   "execution_count": null,
   "metadata": {},
   "outputs": [],
   "source": []
  }
 ],
 "metadata": {
  "kernelspec": {
   "display_name": "Python 3",
   "language": "python",
   "name": "python3"
  },
  "language_info": {
   "codemirror_mode": {
    "name": "ipython",
    "version": 3
   },
   "file_extension": ".py",
   "mimetype": "text/x-python",
   "name": "python",
   "nbconvert_exporter": "python",
   "pygments_lexer": "ipython3",
   "version": "3.7.3rc1"
  }
 },
 "nbformat": 4,
 "nbformat_minor": 2
}
